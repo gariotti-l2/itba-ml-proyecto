{
 "cells": [
  {
   "cell_type": "code",
   "execution_count": 18,
   "metadata": {
    "collapsed": false
   },
   "outputs": [
    {
     "name": "stderr",
     "output_type": "stream",
     "text": [
      "C:\\Users\\GAriotti\\AppData\\Local\\Continuum\\Anaconda3\\lib\\site-packages\\numpy\\ma\\core.py:6442: MaskedArrayFutureWarning: In the future the default for ma.maximum.reduce will be axis=0, not the current None, to match np.maximum.reduce. Explicitly pass 0 or None to silence this warning.\n",
      "  return self.reduce(a)\n",
      "C:\\Users\\GAriotti\\AppData\\Local\\Continuum\\Anaconda3\\lib\\site-packages\\numpy\\ma\\core.py:6442: MaskedArrayFutureWarning: In the future the default for ma.minimum.reduce will be axis=0, not the current None, to match np.minimum.reduce. Explicitly pass 0 or None to silence this warning.\n",
      "  return self.reduce(a)\n"
     ]
    }
   ],
   "source": [
    "import numpy as np\n",
    "import matplotlib.pyplot as plt\n",
    "from matplotlib.colors import ListedColormap\n",
    "from sklearn.model_selection import train_test_split\n",
    "from sklearn.naive_bayes import GaussianNB\n",
    "\n",
    "def plot_boundaries(X_train, X_test, y_train, y_test, score, probability_func, h = .02, ax = None):\n",
    "    X = np.vstack((X_test, X_train))\n",
    "    x_min, x_max = X[:, 0].min() - .5, X[:, 0].max() + .5\n",
    "    y_min, y_max = X[:, 1].min() - .5, X[:, 1].max() + .5\n",
    "    xx, yy = np.meshgrid(np.arange(x_min, x_max, h),\n",
    "                         np.arange(y_min, y_max, h))\n",
    "\n",
    "    if ax is None:\n",
    "        ax = plt.subplot(1, 1, 1)\n",
    "    \n",
    "    # Plot the decision boundary. For that, we will assign a color to each\n",
    "    # point in the mesh [x_min, x_max]x[y_min, y_max].\n",
    "    \n",
    "    Z = probability_func(np.c_[xx.ravel(), yy.ravel()])[:, 1]\n",
    "\n",
    "    # Put the result into a color plot\n",
    "    Z = Z.reshape(xx.shape)\n",
    "    \n",
    "    cm = plt.cm.RdBu\n",
    "    cm_bright = ListedColormap(['#FF0000', '#0000FF'])\n",
    "    \n",
    "    cf = ax.contourf(xx, yy, Z, 50, cmap=cm, alpha=.8)\n",
    "    plt.colorbar(cf, ax=ax)\n",
    "    #plt.colorbar(Z,ax=ax)\n",
    "\n",
    "    # Plot also the training points\n",
    "    ax.scatter(X_train[:, 0], X_train[:, 1], c=y_train, cmap=cm_bright,\n",
    "               edgecolors='k', s=100)\n",
    "    # and testing points\n",
    "    ax.scatter(X_test[:, 0], X_test[:, 1], c=y_test, cmap=cm_bright,\n",
    "               edgecolors='k', alpha=0.6, s=200)\n",
    "\n",
    "    ax.set_xlim(xx.min(), xx.max())\n",
    "    ax.set_ylim(yy.min(), yy.max())\n",
    "    ax.set_xticks(())\n",
    "    ax.set_yticks(())\n",
    "    ax.text(xx.max() - .3, yy.min() + .3, ('%.2f' % score).lstrip('0'),\n",
    "            size=40, horizontalalignment='right')    \n",
    "    \n",
    "    \n",
    "    \n",
    "    \n",
    "def train_and_plot(X, y, h=1):\n",
    "    X_train, X_test = train_test_split(X, test_size=0.4)\n",
    "    y_train, y_test = train_test_split(y, test_size=0.4)\n",
    "    gnb = GaussianNB()\n",
    "    y_pred = gnb.fit(X_train, y_train)\n",
    "    score = y_pred.score(X_train, y_train)\n",
    "    \n",
    "    plot_boundaries(X_train, X_test, y_train, y_test, score, probability_func=y_pred.predict_proba, h=h, ax=None)\n",
    "    \n",
    "    return\n",
    "\n",
    "##main    \n",
    "data = np.genfromtxt('C:\\\\itba\\\\Intro-Probabilidad\\\\datasets\\\\chip_tests.txt', delimiter=',')\n",
    "\n",
    "features = data[:,0:2]\n",
    "labels = np.ravel(data[:,2:3].astype(int))\n",
    "\n",
    "train_and_plot(features, labels, h=1)\n",
    "\n",
    "plt.show()\n",
    "\n"
   ]
  },
  {
   "cell_type": "code",
   "execution_count": null,
   "metadata": {
    "collapsed": false
   },
   "outputs": [],
   "source": [
    "\n"
   ]
  },
  {
   "cell_type": "code",
   "execution_count": null,
   "metadata": {
    "collapsed": true
   },
   "outputs": [],
   "source": [
    "\n",
    "    "
   ]
  }
 ],
 "metadata": {
  "kernelspec": {
   "display_name": "Python 3",
   "language": "python",
   "name": "python3"
  },
  "language_info": {
   "codemirror_mode": {
    "name": "ipython",
    "version": 3
   },
   "file_extension": ".py",
   "mimetype": "text/x-python",
   "name": "python",
   "nbconvert_exporter": "python",
   "pygments_lexer": "ipython3",
   "version": "3.5.4"
  }
 },
 "nbformat": 4,
 "nbformat_minor": 0
}
